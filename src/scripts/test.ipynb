{
 "cells": [
  {
   "cell_type": "code",
   "execution_count": 2,
   "metadata": {},
   "outputs": [],
   "source": [
    "from handlers import datahandler\n",
    "from dotenv import load_dotenv\n",
    "from datetime import datetime\n",
    "import os"
   ]
  },
  {
   "cell_type": "code",
   "execution_count": 3,
   "metadata": {},
   "outputs": [],
   "source": [
    "import handlers"
   ]
  },
  {
   "cell_type": "code",
   "execution_count": 4,
   "metadata": {},
   "outputs": [
    {
     "data": {
      "text/plain": [
       "True"
      ]
     },
     "execution_count": 4,
     "metadata": {},
     "output_type": "execute_result"
    }
   ],
   "source": [
    "load_dotenv()"
   ]
  },
  {
   "cell_type": "code",
   "execution_count": 5,
   "metadata": {},
   "outputs": [
    {
     "name": "stdout",
     "output_type": "stream",
     "text": [
      "{'MNQ': {'datetime': [], 'open': [], 'high': [], 'low': [], 'close': [], 'adj_close': [], 'volume': []}}\n"
     ]
    }
   ],
   "source": [
    "host = os.environ['DB_HOST']\n",
    "user = os.environ['DB_USER']\n",
    "password = os.environ['DB_PASS']\n",
    "database = os.environ['FUTURES_DB']\n",
    "tables = {}\n",
    "tables['MNQ'] = 'mnq'\n",
    "\n",
    "dh = datahandler.MySQLDataHandler(host,user,password, database, tables, start_date = datetime(2024, 7, 15))"
   ]
  },
  {
   "cell_type": "code",
   "execution_count": 6,
   "metadata": {},
   "outputs": [
    {
     "data": {
      "text/plain": [
       "Timestamp('2024-07-15 00:00:00')"
      ]
     },
     "execution_count": 6,
     "metadata": {},
     "output_type": "execute_result"
    }
   ],
   "source": [
    "dh.total_data['MNQ'].iloc[0,0]"
   ]
  },
  {
   "cell_type": "code",
   "execution_count": 9,
   "metadata": {},
   "outputs": [
    {
     "name": "stdout",
     "output_type": "stream",
     "text": [
      "[np.float64(20578.5), np.float64(20579.2), np.float64(20579.0), np.float64(20577.5), np.float64(20578.5), np.float64(20578.2), np.float64(20578.2), np.float64(20576.8), np.float64(20576.2), np.float64(20578.0)]\n"
     ]
    }
   ],
   "source": [
    "print(dh.get_latest_bar_values('MNQ', 'high', 10))"
   ]
  },
  {
   "cell_type": "code",
   "execution_count": 8,
   "metadata": {},
   "outputs": [],
   "source": [
    "for i in range(10):\n",
    "    dh.update()"
   ]
  },
  {
   "cell_type": "code",
   "execution_count": 10,
   "metadata": {},
   "outputs": [
    {
     "name": "stdout",
     "output_type": "stream",
     "text": [
      "[np.float64(20577.5), np.float64(20578.5), np.float64(20578.2), np.float64(20578.2), np.float64(20576.8), np.float64(20576.2), np.float64(20578.0), np.float64(20578.5), np.float64(20579.2), np.float64(20579.0)]\n"
     ]
    }
   ],
   "source": [
    "print(dh.data['MNQ']['high'])"
   ]
  },
  {
   "cell_type": "code",
   "execution_count": null,
   "metadata": {},
   "outputs": [],
   "source": []
  }
 ],
 "metadata": {
  "kernelspec": {
   "display_name": ".venv",
   "language": "python",
   "name": "python3"
  },
  "language_info": {
   "codemirror_mode": {
    "name": "ipython",
    "version": 3
   },
   "file_extension": ".py",
   "mimetype": "text/x-python",
   "name": "python",
   "nbconvert_exporter": "python",
   "pygments_lexer": "ipython3",
   "version": "3.11.9"
  }
 },
 "nbformat": 4,
 "nbformat_minor": 2
}
